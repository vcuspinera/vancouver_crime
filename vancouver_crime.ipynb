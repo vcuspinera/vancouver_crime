{
 "cells": [
  {
   "cell_type": "markdown",
   "metadata": {},
   "source": [
    "# Vancouver Crime Analysis\n",
    "##### by Victor Cuspinera"
   ]
  },
  {
   "cell_type": "markdown",
   "metadata": {},
   "source": [
    "This is an analysis from the [Vancouver Crime Report](https://www.kaggle.com/agilesifaka/vancouver-crime-report/data) in Kaggle, from a dataset that contains the Vancouver Police Department's crime records **from 2013 to 2019**, which data was collected from the City of Vancouver Open Data Catalogue."
   ]
  },
  {
   "cell_type": "code",
   "execution_count": 1,
   "metadata": {},
   "outputs": [],
   "source": [
    "import numpy as np\n",
    "import pandas as pd"
   ]
  },
  {
   "cell_type": "code",
   "execution_count": 3,
   "metadata": {},
   "outputs": [],
   "source": [
    "# download the data\n",
    "van_crime = pd.read_csv(\"data/crime_records.csv\")"
   ]
  },
  {
   "cell_type": "code",
   "execution_count": 4,
   "metadata": {},
   "outputs": [
    {
     "data": {
      "text/html": [
       "<div>\n",
       "<style scoped>\n",
       "    .dataframe tbody tr th:only-of-type {\n",
       "        vertical-align: middle;\n",
       "    }\n",
       "\n",
       "    .dataframe tbody tr th {\n",
       "        vertical-align: top;\n",
       "    }\n",
       "\n",
       "    .dataframe thead th {\n",
       "        text-align: right;\n",
       "    }\n",
       "</style>\n",
       "<table border=\"1\" class=\"dataframe\">\n",
       "  <thead>\n",
       "    <tr style=\"text-align: right;\">\n",
       "      <th></th>\n",
       "      <th>TYPE</th>\n",
       "      <th>YEAR</th>\n",
       "      <th>MONTH</th>\n",
       "      <th>DAY</th>\n",
       "      <th>HOUR</th>\n",
       "      <th>MINUTE</th>\n",
       "      <th>HUNDRED_BLOCK</th>\n",
       "      <th>NEIGHBOURHOOD</th>\n",
       "      <th>X</th>\n",
       "      <th>Y</th>\n",
       "    </tr>\n",
       "  </thead>\n",
       "  <tbody>\n",
       "    <tr>\n",
       "      <th>0</th>\n",
       "      <td>Theft from Vehicle</td>\n",
       "      <td>2003</td>\n",
       "      <td>6</td>\n",
       "      <td>28</td>\n",
       "      <td>13.0</td>\n",
       "      <td>30.0</td>\n",
       "      <td>8XX EXPO BLVD</td>\n",
       "      <td>Central Business District</td>\n",
       "      <td>491771.63</td>\n",
       "      <td>5458295.01</td>\n",
       "    </tr>\n",
       "    <tr>\n",
       "      <th>1</th>\n",
       "      <td>Theft from Vehicle</td>\n",
       "      <td>2003</td>\n",
       "      <td>11</td>\n",
       "      <td>17</td>\n",
       "      <td>16.0</td>\n",
       "      <td>0.0</td>\n",
       "      <td>56XX OAK ST</td>\n",
       "      <td>South Cambie</td>\n",
       "      <td>490682.32</td>\n",
       "      <td>5453536.96</td>\n",
       "    </tr>\n",
       "    <tr>\n",
       "      <th>2</th>\n",
       "      <td>Theft from Vehicle</td>\n",
       "      <td>2003</td>\n",
       "      <td>12</td>\n",
       "      <td>30</td>\n",
       "      <td>14.0</td>\n",
       "      <td>0.0</td>\n",
       "      <td>85XX STANLEY PARK DR</td>\n",
       "      <td>Stanley Park</td>\n",
       "      <td>489104.19</td>\n",
       "      <td>5460347.36</td>\n",
       "    </tr>\n",
       "    <tr>\n",
       "      <th>3</th>\n",
       "      <td>Theft of Vehicle</td>\n",
       "      <td>2003</td>\n",
       "      <td>1</td>\n",
       "      <td>15</td>\n",
       "      <td>14.0</td>\n",
       "      <td>45.0</td>\n",
       "      <td>6XX W 41ST AVE</td>\n",
       "      <td>Oakridge</td>\n",
       "      <td>491372.94</td>\n",
       "      <td>5453422.83</td>\n",
       "    </tr>\n",
       "    <tr>\n",
       "      <th>4</th>\n",
       "      <td>Theft from Vehicle</td>\n",
       "      <td>2003</td>\n",
       "      <td>12</td>\n",
       "      <td>28</td>\n",
       "      <td>16.0</td>\n",
       "      <td>45.0</td>\n",
       "      <td>85XX STANLEY PARK DR</td>\n",
       "      <td>Stanley Park</td>\n",
       "      <td>489104.19</td>\n",
       "      <td>5460347.36</td>\n",
       "    </tr>\n",
       "    <tr>\n",
       "      <th>5</th>\n",
       "      <td>Theft from Vehicle</td>\n",
       "      <td>2003</td>\n",
       "      <td>12</td>\n",
       "      <td>12</td>\n",
       "      <td>15.0</td>\n",
       "      <td>30.0</td>\n",
       "      <td>85XX STANLEY PARK DR</td>\n",
       "      <td>Stanley Park</td>\n",
       "      <td>489104.19</td>\n",
       "      <td>5460347.36</td>\n",
       "    </tr>\n",
       "    <tr>\n",
       "      <th>6</th>\n",
       "      <td>Theft from Vehicle</td>\n",
       "      <td>2003</td>\n",
       "      <td>12</td>\n",
       "      <td>12</td>\n",
       "      <td>13.0</td>\n",
       "      <td>0.0</td>\n",
       "      <td>85XX STANLEY PARK DR</td>\n",
       "      <td>Stanley Park</td>\n",
       "      <td>489104.19</td>\n",
       "      <td>5460347.36</td>\n",
       "    </tr>\n",
       "    <tr>\n",
       "      <th>7</th>\n",
       "      <td>Theft of Vehicle</td>\n",
       "      <td>2003</td>\n",
       "      <td>1</td>\n",
       "      <td>19</td>\n",
       "      <td>14.0</td>\n",
       "      <td>30.0</td>\n",
       "      <td>6XX W 41ST AVE</td>\n",
       "      <td>Oakridge</td>\n",
       "      <td>491372.94</td>\n",
       "      <td>5453422.83</td>\n",
       "    </tr>\n",
       "    <tr>\n",
       "      <th>8</th>\n",
       "      <td>Theft of Vehicle</td>\n",
       "      <td>2003</td>\n",
       "      <td>2</td>\n",
       "      <td>1</td>\n",
       "      <td>10.0</td>\n",
       "      <td>0.0</td>\n",
       "      <td>6XX W 41ST AVE</td>\n",
       "      <td>Oakridge</td>\n",
       "      <td>491372.94</td>\n",
       "      <td>5453422.83</td>\n",
       "    </tr>\n",
       "    <tr>\n",
       "      <th>9</th>\n",
       "      <td>Theft from Vehicle</td>\n",
       "      <td>2003</td>\n",
       "      <td>11</td>\n",
       "      <td>5</td>\n",
       "      <td>16.0</td>\n",
       "      <td>30.0</td>\n",
       "      <td>85XX STANLEY PARK DR</td>\n",
       "      <td>Stanley Park</td>\n",
       "      <td>489104.19</td>\n",
       "      <td>5460347.36</td>\n",
       "    </tr>\n",
       "  </tbody>\n",
       "</table>\n",
       "</div>"
      ],
      "text/plain": [
       "                 TYPE  YEAR  MONTH  DAY  HOUR  MINUTE         HUNDRED_BLOCK  \\\n",
       "0  Theft from Vehicle  2003      6   28  13.0    30.0         8XX EXPO BLVD   \n",
       "1  Theft from Vehicle  2003     11   17  16.0     0.0           56XX OAK ST   \n",
       "2  Theft from Vehicle  2003     12   30  14.0     0.0  85XX STANLEY PARK DR   \n",
       "3    Theft of Vehicle  2003      1   15  14.0    45.0        6XX W 41ST AVE   \n",
       "4  Theft from Vehicle  2003     12   28  16.0    45.0  85XX STANLEY PARK DR   \n",
       "5  Theft from Vehicle  2003     12   12  15.0    30.0  85XX STANLEY PARK DR   \n",
       "6  Theft from Vehicle  2003     12   12  13.0     0.0  85XX STANLEY PARK DR   \n",
       "7    Theft of Vehicle  2003      1   19  14.0    30.0        6XX W 41ST AVE   \n",
       "8    Theft of Vehicle  2003      2    1  10.0     0.0        6XX W 41ST AVE   \n",
       "9  Theft from Vehicle  2003     11    5  16.0    30.0  85XX STANLEY PARK DR   \n",
       "\n",
       "               NEIGHBOURHOOD          X           Y  \n",
       "0  Central Business District  491771.63  5458295.01  \n",
       "1               South Cambie  490682.32  5453536.96  \n",
       "2               Stanley Park  489104.19  5460347.36  \n",
       "3                   Oakridge  491372.94  5453422.83  \n",
       "4               Stanley Park  489104.19  5460347.36  \n",
       "5               Stanley Park  489104.19  5460347.36  \n",
       "6               Stanley Park  489104.19  5460347.36  \n",
       "7                   Oakridge  491372.94  5453422.83  \n",
       "8                   Oakridge  491372.94  5453422.83  \n",
       "9               Stanley Park  489104.19  5460347.36  "
      ]
     },
     "execution_count": 4,
     "metadata": {},
     "output_type": "execute_result"
    }
   ],
   "source": [
    "# first view of the data\n",
    "van_crime.head(10)"
   ]
  },
  {
   "cell_type": "code",
   "execution_count": 6,
   "metadata": {},
   "outputs": [
    {
     "name": "stdout",
     "output_type": "stream",
     "text": [
      "python list took : 111.4659309387207\n",
      "numpy array took : 14.893770217895508\n"
     ]
    }
   ],
   "source": [
    "import numpy as np\n",
    "import time\n",
    "size = 1000000  #Size of array \n",
    "L1 = range(size)\n",
    "L2 = range(size)\n",
    "\n",
    "a1 = np.arange(size)  # decalre two arrays\n",
    "a2 = np.arange(size)\n",
    "\n",
    "## list\n",
    "start = time.time()\n",
    "result = [(x+y) for x,y in zip(L1 , L2)]\n",
    "print(\"python list took :\" ,(time.time()-start)*1000 )\n",
    "\n",
    "\n",
    "## numpy array\n",
    "start = time.time()\n",
    "result = a1 + a2\n",
    "print(\"numpy array took :\" ,(time.time() - start)*1000)\n",
    "\n",
    "# Rum this code to see the difference"
   ]
  },
  {
   "cell_type": "code",
   "execution_count": 9,
   "metadata": {},
   "outputs": [
    {
     "data": {
      "text/plain": [
       "array([[0, 1, 2],\n",
       "       [3, 4, 5]], dtype=int16)"
      ]
     },
     "execution_count": 9,
     "metadata": {},
     "output_type": "execute_result"
    }
   ],
   "source": [
    "X = np.array([[0,1,2],[3,4,5]], dtype='int16')\n",
    "X"
   ]
  },
  {
   "cell_type": "code",
   "execution_count": 10,
   "metadata": {},
   "outputs": [
    {
     "data": {
      "text/plain": [
       "(6, 2)"
      ]
     },
     "execution_count": 10,
     "metadata": {},
     "output_type": "execute_result"
    }
   ],
   "source": [
    "X.strides"
   ]
  },
  {
   "cell_type": "code",
   "execution_count": null,
   "metadata": {},
   "outputs": [],
   "source": []
  }
 ],
 "metadata": {
  "kernelspec": {
   "display_name": "Python 3",
   "language": "python",
   "name": "python3"
  },
  "language_info": {
   "codemirror_mode": {
    "name": "ipython",
    "version": 3
   },
   "file_extension": ".py",
   "mimetype": "text/x-python",
   "name": "python",
   "nbconvert_exporter": "python",
   "pygments_lexer": "ipython3",
   "version": "3.7.4"
  }
 },
 "nbformat": 4,
 "nbformat_minor": 2
}
